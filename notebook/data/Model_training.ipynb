{
 "cells": [
  {
   "cell_type": "markdown",
   "id": "faa001ad",
   "metadata": {},
   "source": [
    "## MODEL TRAINING \n",
    "### import data and require packages"
   ]
  },
  {
   "cell_type": "markdown",
   "id": "2dcb3e1f",
   "metadata": {},
   "source": []
  },
  {
   "cell_type": "code",
   "execution_count": 7,
   "id": "e455f614",
   "metadata": {},
   "outputs": [],
   "source": [
    "## basis import \n",
    "import pandas as pd\n",
    "import numpy as np\n",
    "import matplotlib.pyplot as plt\n",
    "import seaborn as sns\n",
    "# modellinf\n",
    "from sklearn.metrics import mean_squared_error,r2_score\n",
    "from sklearn.neighbors import KNeighborsRegressor\n",
    "from sklearn.tree import DecisionTreeRegressor\n",
    "from sklearn.ensemble import RandomForestRegressor,AdaBoostRegressor\n",
    "from sklearn.svm import SVR\n",
    "from sklearn.linear_model import LinearRegression,Ridge,Lasso\n",
    "from sklearn.metrics import r2_score,mean_absolute_error,mean_squared_error\n",
    "from catboost import CatBoostRegressor\n",
    "from xgboost import XGBRegressor\n",
    "\n",
    "import warnings"
   ]
  },
  {
   "cell_type": "code",
   "execution_count": 8,
   "id": "ecbc829f",
   "metadata": {},
   "outputs": [],
   "source": [
    "df = pd.read_csv('study_performance.csv')"
   ]
  },
  {
   "cell_type": "code",
   "execution_count": 9,
   "id": "d1756ff9",
   "metadata": {},
   "outputs": [
    {
     "data": {
      "text/html": [
       "<div>\n",
       "<style scoped>\n",
       "    .dataframe tbody tr th:only-of-type {\n",
       "        vertical-align: middle;\n",
       "    }\n",
       "\n",
       "    .dataframe tbody tr th {\n",
       "        vertical-align: top;\n",
       "    }\n",
       "\n",
       "    .dataframe thead th {\n",
       "        text-align: right;\n",
       "    }\n",
       "</style>\n",
       "<table border=\"1\" class=\"dataframe\">\n",
       "  <thead>\n",
       "    <tr style=\"text-align: right;\">\n",
       "      <th></th>\n",
       "      <th>gender</th>\n",
       "      <th>race_ethnicity</th>\n",
       "      <th>parental_level_of_education</th>\n",
       "      <th>lunch</th>\n",
       "      <th>test_preparation_course</th>\n",
       "      <th>math_score</th>\n",
       "      <th>reading_score</th>\n",
       "      <th>writing_score</th>\n",
       "    </tr>\n",
       "  </thead>\n",
       "  <tbody>\n",
       "    <tr>\n",
       "      <th>0</th>\n",
       "      <td>female</td>\n",
       "      <td>group B</td>\n",
       "      <td>bachelor's degree</td>\n",
       "      <td>standard</td>\n",
       "      <td>none</td>\n",
       "      <td>72</td>\n",
       "      <td>72</td>\n",
       "      <td>74</td>\n",
       "    </tr>\n",
       "    <tr>\n",
       "      <th>1</th>\n",
       "      <td>female</td>\n",
       "      <td>group C</td>\n",
       "      <td>some college</td>\n",
       "      <td>standard</td>\n",
       "      <td>completed</td>\n",
       "      <td>69</td>\n",
       "      <td>90</td>\n",
       "      <td>88</td>\n",
       "    </tr>\n",
       "    <tr>\n",
       "      <th>2</th>\n",
       "      <td>female</td>\n",
       "      <td>group B</td>\n",
       "      <td>master's degree</td>\n",
       "      <td>standard</td>\n",
       "      <td>none</td>\n",
       "      <td>90</td>\n",
       "      <td>95</td>\n",
       "      <td>93</td>\n",
       "    </tr>\n",
       "    <tr>\n",
       "      <th>3</th>\n",
       "      <td>male</td>\n",
       "      <td>group A</td>\n",
       "      <td>associate's degree</td>\n",
       "      <td>free/reduced</td>\n",
       "      <td>none</td>\n",
       "      <td>47</td>\n",
       "      <td>57</td>\n",
       "      <td>44</td>\n",
       "    </tr>\n",
       "    <tr>\n",
       "      <th>4</th>\n",
       "      <td>male</td>\n",
       "      <td>group C</td>\n",
       "      <td>some college</td>\n",
       "      <td>standard</td>\n",
       "      <td>none</td>\n",
       "      <td>76</td>\n",
       "      <td>78</td>\n",
       "      <td>75</td>\n",
       "    </tr>\n",
       "  </tbody>\n",
       "</table>\n",
       "</div>"
      ],
      "text/plain": [
       "   gender race_ethnicity parental_level_of_education         lunch  \\\n",
       "0  female        group B           bachelor's degree      standard   \n",
       "1  female        group C                some college      standard   \n",
       "2  female        group B             master's degree      standard   \n",
       "3    male        group A          associate's degree  free/reduced   \n",
       "4    male        group C                some college      standard   \n",
       "\n",
       "  test_preparation_course  math_score  reading_score  writing_score  \n",
       "0                    none          72             72             74  \n",
       "1               completed          69             90             88  \n",
       "2                    none          90             95             93  \n",
       "3                    none          47             57             44  \n",
       "4                    none          76             78             75  "
      ]
     },
     "execution_count": 9,
     "metadata": {},
     "output_type": "execute_result"
    }
   ],
   "source": [
    "df.head(5)"
   ]
  },
  {
   "cell_type": "markdown",
   "id": "ca6afe96",
   "metadata": {},
   "source": [
    "## x and y variable"
   ]
  },
  {
   "cell_type": "code",
   "execution_count": 10,
   "id": "9f62c360",
   "metadata": {},
   "outputs": [],
   "source": [
    "x = df.drop(columns=['math_score'],axis=1)"
   ]
  },
  {
   "cell_type": "code",
   "execution_count": 11,
   "id": "23361838",
   "metadata": {},
   "outputs": [],
   "source": [
    "y = df['math_score']"
   ]
  },
  {
   "cell_type": "code",
   "execution_count": null,
   "id": "f1902b1d",
   "metadata": {},
   "outputs": [],
   "source": [
    "## create column tranformer with 3 types of transformers\n",
    "num_features =  x.select_dtypes(exclude='object').columns\n",
    "cat_features = x.select_dtypes(include='object').columns\n",
    "\n",
    "from sklearn.preprocessing import OneHotEncoder,StandardScaler\n",
    "from sklearn.compose import ColumnTransformer\n",
    "\n",
    "numeric_transformer = StandardScaler()\n",
    "oh_transformer = OneHotEncoder()\n",
    "preprocessor = ColumnTransformer(\n",
    "   [ \n",
    "    ('OneHotEncoder',oh_transformer,cat_features),\n",
    "    ('StandardScaler',numeric_transformer,num_features)\n",
    "   ] \n",
    "    \n",
    ")"
   ]
  },
  {
   "cell_type": "code",
   "execution_count": 16,
   "id": "1cf54c24",
   "metadata": {},
   "outputs": [],
   "source": [
    "x = preprocessor.fit_transform(x)"
   ]
  },
  {
   "cell_type": "code",
   "execution_count": 17,
   "id": "03814659",
   "metadata": {},
   "outputs": [],
   "source": [
    "from sklearn.model_selection import train_test_split"
   ]
  },
  {
   "cell_type": "code",
   "execution_count": 18,
   "id": "930cb501",
   "metadata": {},
   "outputs": [
    {
     "data": {
      "text/plain": [
       "((800, 19), (200, 19))"
      ]
     },
     "execution_count": 18,
     "metadata": {},
     "output_type": "execute_result"
    }
   ],
   "source": [
    "x_train,x_test,y_train,y_test = train_test_split(x,y,test_size=0.2,random_state=43)\n",
    "x_train.shape,x_test.shape"
   ]
  },
  {
   "cell_type": "code",
   "execution_count": 19,
   "id": "fd64e3c8",
   "metadata": {},
   "outputs": [],
   "source": [
    "def evaluate_model(true,predicted):\n",
    "    mae = mean_absolute_error(true,predicted)\n",
    "    mse = mean_squared_error(true,predicted)\n",
    "    rmse = np.sqrt(mean_squared_error(true,predicted))\n",
    "    r2_square = r2_score(true,predicted)\n",
    "    return mae,rmse,r2_square"
   ]
  },
  {
   "cell_type": "code",
   "execution_count": 22,
   "id": "2acd6e35",
   "metadata": {},
   "outputs": [
    {
     "name": "stdout",
     "output_type": "stream",
     "text": [
      "Linear Regression\n",
      "model performance for training set\n",
      "- root mean squared error: 5.3110\n",
      "- mean absolute error: 4.2237\n",
      "- r2 score: 0.8774\n",
      "--------------------\n",
      "model perforamnce fro the test set\n",
      "- root mean squared error: 5.3986\n",
      "- mean absolute error: 4.3503\n",
      "- r2 score: 0.8704\n",
      "===================================\n",
      "\n",
      "\n",
      "Lasso\n",
      "model performance for training set\n",
      "- root mean squared error: 6.5415\n",
      "- mean absolute error: 5.1315\n",
      "- r2 score: 0.8139\n",
      "--------------------\n",
      "model perforamnce fro the test set\n",
      "- root mean squared error: 6.8436\n",
      "- mean absolute error: 5.5248\n",
      "- r2 score: 0.7917\n",
      "===================================\n",
      "\n",
      "\n",
      "ridge\n",
      "model performance for training set\n",
      "- root mean squared error: 5.3113\n",
      "- mean absolute error: 4.2230\n",
      "- r2 score: 0.8773\n",
      "--------------------\n",
      "model perforamnce fro the test set\n",
      "- root mean squared error: 5.4014\n",
      "- mean absolute error: 4.3516\n",
      "- r2 score: 0.8703\n",
      "===================================\n",
      "\n",
      "\n",
      "K- neighbors regressor\n",
      "model performance for training set\n",
      "- root mean squared error: 6.0368\n",
      "- mean absolute error: 4.7753\n",
      "- r2 score: 0.8415\n",
      "--------------------\n",
      "model perforamnce fro the test set\n",
      "- root mean squared error: 6.8669\n",
      "- mean absolute error: 5.4420\n",
      "- r2 score: 0.7903\n",
      "===================================\n",
      "\n",
      "\n",
      "Decission Tree\n",
      "model performance for training set\n",
      "- root mean squared error: 0.4479\n",
      "- mean absolute error: 0.0362\n",
      "- r2 score: 0.9991\n",
      "--------------------\n",
      "model perforamnce fro the test set\n",
      "- root mean squared error: 7.5495\n",
      "- mean absolute error: 5.9750\n",
      "- r2 score: 0.7465\n",
      "===================================\n",
      "\n",
      "\n",
      "XGBRegressor\n",
      "model performance for training set\n",
      "- root mean squared error: 1.0433\n",
      "- mean absolute error: 0.6646\n",
      "- r2 score: 0.9953\n",
      "--------------------\n",
      "model perforamnce fro the test set\n",
      "- root mean squared error: 6.6402\n",
      "- mean absolute error: 5.2585\n",
      "- r2 score: 0.8039\n",
      "===================================\n",
      "\n",
      "\n",
      "CatBoostRegressor\n",
      "model performance for training set\n",
      "- root mean squared error: 3.0279\n",
      "- mean absolute error: 2.3456\n",
      "- r2 score: 0.9601\n",
      "--------------------\n",
      "model perforamnce fro the test set\n",
      "- root mean squared error: 5.8142\n",
      "- mean absolute error: 4.6008\n",
      "- r2 score: 0.8497\n",
      "===================================\n",
      "\n",
      "\n",
      "AdaBoostRegressor\n",
      "model performance for training set\n",
      "- root mean squared error: 5.6813\n",
      "- mean absolute error: 4.6443\n",
      "- r2 score: 0.8597\n",
      "--------------------\n",
      "model perforamnce fro the test set\n",
      "- root mean squared error: 6.1115\n",
      "- mean absolute error: 4.8701\n",
      "- r2 score: 0.8339\n",
      "===================================\n",
      "\n",
      "\n"
     ]
    }
   ],
   "source": [
    "models = {\n",
    "    'Linear Regression': LinearRegression(),\n",
    "    'Lasso': Lasso(),\n",
    "    'ridge':Ridge(),\n",
    "    'K- neighbors regressor':KNeighborsRegressor(),\n",
    "    'Decission Tree': DecisionTreeRegressor(),\n",
    "    'XGBRegressor': XGBRegressor(),\n",
    "    'CatBoostRegressor': CatBoostRegressor(verbose=False),\n",
    "    'AdaBoostRegressor': AdaBoostRegressor()\n",
    "    \n",
    "    \n",
    "}\n",
    "\n",
    "model_list = []\n",
    "r2_list = []\n",
    "\n",
    "for i in range(len(list(models))):\n",
    "    model = list(models.values())[i]\n",
    "    model.fit(x_train,y_train)\n",
    "\n",
    "    # make predictions\n",
    "    y_train_pred = model.predict(x_train)\n",
    "    y_test_pred = model.predict(x_test)\n",
    "    \n",
    "    # evaluate train and test dataset\n",
    "    model_train_mae,model_train_rmse,model_train_r2 = evaluate_model(y_train,y_train_pred)\n",
    "    model_test_mae,model_test_rmse,model_test_r2= evaluate_model(y_test,y_test_pred)\n",
    "    \n",
    "    print(list(models.keys())[i])\n",
    "    model_list.append(list(models.keys())[i])\n",
    "    \n",
    "    print('model performance for training set')\n",
    "    print('- root mean squared error: {:.4f}'.format(model_train_rmse))\n",
    "    print('- mean absolute error: {:.4f}'.format(model_train_mae))\n",
    "    print('- r2 score: {:.4f}'.format(model_train_r2))\n",
    "    \n",
    "    print(\"--\"*10)\n",
    "    \n",
    "    print('model perforamnce fro the test set')\n",
    "    print('- root mean squared error: {:.4f}'.format(model_test_rmse))\n",
    "    print('- mean absolute error: {:.4f}'.format(model_test_mae))\n",
    "    print('- r2 score: {:.4f}'.format(model_test_r2))\n",
    "    r2_list.append(model_test_r2)\n",
    "    \n",
    "    print('='*35)\n",
    "    print('\\n')\n",
    "    \n",
    "    \n",
    "    "
   ]
  },
  {
   "cell_type": "markdown",
   "id": "b86d5067",
   "metadata": {},
   "source": [
    "### result \n",
    "- linar regression is performing well\n"
   ]
  },
  {
   "cell_type": "code",
   "execution_count": 23,
   "id": "209930c0",
   "metadata": {},
   "outputs": [
    {
     "name": "stdout",
     "output_type": "stream",
     "text": [
      "Accuracy of the model is 87.04\n"
     ]
    }
   ],
   "source": [
    "lin_model = LinearRegression(fit_intercept=True)\n",
    "lin_model = lin_model.fit(x_train,y_train)\n",
    "y_pred =lin_model.predict(x_test)\n",
    "score = r2_score(y_test,y_pred)*100\n",
    "print(\"Accuracy of the model is %.2f\" %score)"
   ]
  },
  {
   "cell_type": "markdown",
   "id": "3525103a",
   "metadata": {},
   "source": [
    "### plot y_pred and y_test"
   ]
  },
  {
   "cell_type": "code",
   "execution_count": 25,
   "id": "8aa922ac",
   "metadata": {},
   "outputs": [
    {
     "data": {
      "text/plain": [
       "Text(0, 0.5, 'predicted')"
      ]
     },
     "execution_count": 25,
     "metadata": {},
     "output_type": "execute_result"
    },
    {
     "data": {
      "image/png": "[encoded data removed]",
      "text/plain": [
       "<Figure size 640x480 with 1 Axes>"
      ]
     },
     "metadata": {},
     "output_type": "display_data"
    }
   ],
   "source": [
    "plt.scatter(y_test,y_pred)\n",
    "plt.xlabel('Actual')\n",
    "plt.ylabel('predicted')"
   ]
  },
  {
   "cell_type": "code",
   "execution_count": 26,
   "id": "be7013c1",
   "metadata": {},
   "outputs": [
    {
     "data": {
      "text/plain": [
       "<Axes: xlabel='math_score'>"
      ]
     },
     "execution_count": 26,
     "metadata": {},
     "output_type": "execute_result"
    },
    {
     "data": {
      "image/png": "[encoded data removed]",
      "text/plain": [
       "<Figure size 640x480 with 1 Axes>"
      ]
     },
     "metadata": {},
     "output_type": "display_data"
    }
   ],
   "source": [
    "sns.regplot(x=y_test,y=y_pred,ci=None,color='red')"
   ]
  },
  {
   "cell_type": "code",
   "execution_count": 27,
   "id": "7a1bc6bc",
   "metadata": {},
   "outputs": [
    {
     "data": {
      "text/html": [
       "<div>\n",
       "<style scoped>\n",
       "    .dataframe tbody tr th:only-of-type {\n",
       "        vertical-align: middle;\n",
       "    }\n",
       "\n",
       "    .dataframe tbody tr th {\n",
       "        vertical-align: top;\n",
       "    }\n",
       "\n",
       "    .dataframe thead th {\n",
       "        text-align: right;\n",
       "    }\n",
       "</style>\n",
       "<table border=\"1\" class=\"dataframe\">\n",
       "  <thead>\n",
       "    <tr style=\"text-align: right;\">\n",
       "      <th></th>\n",
       "      <th>actual_value</th>\n",
       "      <th>predicted_value</th>\n",
       "      <th>defference</th>\n",
       "    </tr>\n",
       "  </thead>\n",
       "  <tbody>\n",
       "    <tr>\n",
       "      <th>858</th>\n",
       "      <td>52</td>\n",
       "      <td>51.114625</td>\n",
       "      <td>0.885375</td>\n",
       "    </tr>\n",
       "    <tr>\n",
       "      <th>986</th>\n",
       "      <td>40</td>\n",
       "      <td>46.520975</td>\n",
       "      <td>-6.520975</td>\n",
       "    </tr>\n",
       "    <tr>\n",
       "      <th>183</th>\n",
       "      <td>65</td>\n",
       "      <td>62.219553</td>\n",
       "      <td>2.780447</td>\n",
       "    </tr>\n",
       "    <tr>\n",
       "      <th>502</th>\n",
       "      <td>63</td>\n",
       "      <td>60.038781</td>\n",
       "      <td>2.961219</td>\n",
       "    </tr>\n",
       "    <tr>\n",
       "      <th>710</th>\n",
       "      <td>93</td>\n",
       "      <td>90.678830</td>\n",
       "      <td>2.321170</td>\n",
       "    </tr>\n",
       "    <tr>\n",
       "      <th>...</th>\n",
       "      <td>...</td>\n",
       "      <td>...</td>\n",
       "      <td>...</td>\n",
       "    </tr>\n",
       "    <tr>\n",
       "      <th>27</th>\n",
       "      <td>67</td>\n",
       "      <td>65.489881</td>\n",
       "      <td>1.510119</td>\n",
       "    </tr>\n",
       "    <tr>\n",
       "      <th>244</th>\n",
       "      <td>75</td>\n",
       "      <td>76.925242</td>\n",
       "      <td>-1.925242</td>\n",
       "    </tr>\n",
       "    <tr>\n",
       "      <th>294</th>\n",
       "      <td>78</td>\n",
       "      <td>78.654367</td>\n",
       "      <td>-0.654367</td>\n",
       "    </tr>\n",
       "    <tr>\n",
       "      <th>176</th>\n",
       "      <td>46</td>\n",
       "      <td>44.655158</td>\n",
       "      <td>1.344842</td>\n",
       "    </tr>\n",
       "    <tr>\n",
       "      <th>421</th>\n",
       "      <td>57</td>\n",
       "      <td>52.267429</td>\n",
       "      <td>4.732571</td>\n",
       "    </tr>\n",
       "  </tbody>\n",
       "</table>\n",
       "<p>200 rows × 3 columns</p>\n",
       "</div>"
      ],
      "text/plain": [
       "     actual_value  predicted_value  defference\n",
       "858            52        51.114625    0.885375\n",
       "986            40        46.520975   -6.520975\n",
       "183            65        62.219553    2.780447\n",
       "502            63        60.038781    2.961219\n",
       "710            93        90.678830    2.321170\n",
       "..            ...              ...         ...\n",
       "27             67        65.489881    1.510119\n",
       "244            75        76.925242   -1.925242\n",
       "294            78        78.654367   -0.654367\n",
       "176            46        44.655158    1.344842\n",
       "421            57        52.267429    4.732571\n",
       "\n",
       "[200 rows x 3 columns]"
      ]
     },
     "execution_count": 27,
     "metadata": {},
     "output_type": "execute_result"
    }
   ],
   "source": [
    "pred_df = pd.DataFrame({'actual_value': y_test,'predicted_value':y_pred,'defference':y_test - y_pred})\n",
    "pred_df"
   ]
  },
  {
   "cell_type": "code",
   "execution_count": null,
   "id": "c623f833",
   "metadata": {},
   "outputs": [],
   "source": []
  }
 ],
 "metadata": {
  "kernelspec": {
   "display_name": "venv",
   "language": "python",
   "name": "python3"
  },
  "language_info": {
   "codemirror_mode": {
    "name": "ipython",
    "version": 3
   },
   "file_extension": ".py",
   "mimetype": "text/x-python",
   "name": "python",
   "nbconvert_exporter": "python",
   "pygments_lexer": "ipython3",
   "version": "3.12.11"
  }
 },
 "nbformat": 4,
 "nbformat_minor": 5
}
